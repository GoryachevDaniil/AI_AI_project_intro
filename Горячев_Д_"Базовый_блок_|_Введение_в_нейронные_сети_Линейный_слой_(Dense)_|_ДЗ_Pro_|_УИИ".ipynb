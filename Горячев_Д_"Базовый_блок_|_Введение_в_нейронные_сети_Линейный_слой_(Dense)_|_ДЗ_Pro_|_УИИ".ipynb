{
  "nbformat": 4,
  "nbformat_minor": 0,
  "metadata": {
    "colab": {
      "provenance": [],
      "collapsed_sections": [],
      "include_colab_link": true
    },
    "kernelspec": {
      "name": "python3",
      "display_name": "Python 3"
    },
    "language_info": {
      "name": "python"
    },
    "accelerator": "GPU"
  },
  "cells": [
    {
      "cell_type": "markdown",
      "metadata": {
        "id": "view-in-github",
        "colab_type": "text"
      },
      "source": [
        "<a href=\"https://colab.research.google.com/github/GoryachevDaniil/UAI_AI_project_intro/blob/main/%D0%93%D0%BE%D1%80%D1%8F%D1%87%D0%B5%D0%B2_%D0%94_%22%D0%91%D0%B0%D0%B7%D0%BE%D0%B2%D1%8B%D0%B9_%D0%B1%D0%BB%D0%BE%D0%BA_%7C_%D0%92%D0%B2%D0%B5%D0%B4%D0%B5%D0%BD%D0%B8%D0%B5_%D0%B2_%D0%BD%D0%B5%D0%B9%D1%80%D0%BE%D0%BD%D0%BD%D1%8B%D0%B5_%D1%81%D0%B5%D1%82%D0%B8_%D0%9B%D0%B8%D0%BD%D0%B5%D0%B9%D0%BD%D1%8B%D0%B9_%D1%81%D0%BB%D0%BE%D0%B9_(Dense)_%7C_%D0%94%D0%97_Pro_%7C_%D0%A3%D0%98%D0%98%22.ipynb\" target=\"_parent\"><img src=\"https://colab.research.google.com/assets/colab-badge.svg\" alt=\"Open In Colab\"/></a>"
      ]
    },
    {
      "cell_type": "markdown",
      "metadata": {
        "id": "d_qXycKuUA51"
      },
      "source": [
        "### Задание"
      ]
    },
    {
      "cell_type": "markdown",
      "metadata": {
        "id": "aUMmCXubUHEb"
      },
      "source": [
        "Самостоятельно напишите нейронную сеть, которая может стать составной частью системы бота для игры в \"Крестики-нолики\". Используя подготовленную базу изображений, создайте и обучите нейронную сеть, распознающую две категории изображений: крестики и нолики. Добейтесь точности распознавания более 95% (accuracy)\n"
      ]
    },
    {
      "cell_type": "code",
      "metadata": {
        "id": "LvOL2h3EdC9y"
      },
      "source": [
        "# Подключение класса для создания нейронной сети прямого распространения\n",
        "from tensorflow.keras.models import Sequential \n",
        "# Подключение класса для создания полносвязного слоя\n",
        "from tensorflow.keras.layers import Dense \n",
        "# Подключение оптимизатора\n",
        "from tensorflow.keras.optimizers import Adam \n",
        "# Подключение утилит для to_categorical\n",
        "from tensorflow.keras import utils \n",
        "# Подключение библиотеки для загрузки изображений\n",
        "from tensorflow.keras.preprocessing import image \n",
        "# Подключение библиотеки для работы с массивами\n",
        "import numpy as np\n",
        "# Подключение модуля для работы с файлами\n",
        "import os\n",
        "# Подключение библиотек для отрисовки изображений\n",
        "import matplotlib.pyplot as plt \n",
        "from PIL import Image \n",
        "# Вывод изображения в ноутбуке, а не в консоли или файле\n",
        "%matplotlib inline "
      ],
      "execution_count": null,
      "outputs": []
    },
    {
      "cell_type": "code",
      "source": [
        "from tensorflow.keras import optimizers"
      ],
      "metadata": {
        "id": "wUx81ncNeVN4"
      },
      "execution_count": null,
      "outputs": []
    },
    {
      "cell_type": "code",
      "metadata": {
        "colab": {
          "base_uri": "https://localhost:8080/",
          "height": 35
        },
        "id": "lJSH41rM12IE",
        "outputId": "89b5d2da-f6e6-4225-f5c7-d993e411e0c5"
      },
      "source": [
        "# Загрузка датасета из облака\n",
        "import gdown\n",
        "gdown.download('https://storage.yandexcloud.net/aiueducation/Content/base/l3/hw_pro.zip', None, quiet=True)"
      ],
      "execution_count": null,
      "outputs": [
        {
          "output_type": "execute_result",
          "data": {
            "text/plain": [
              "'hw_pro.zip'"
            ],
            "application/vnd.google.colaboratory.intrinsic+json": {
              "type": "string"
            }
          },
          "metadata": {},
          "execution_count": 245
        }
      ]
    },
    {
      "cell_type": "code",
      "metadata": {
        "id": "5HAhCsCJ1_hJ",
        "colab": {
          "base_uri": "https://localhost:8080/"
        },
        "outputId": "2dd899a8-f0c7-4759-c23a-5f3eeae1dbc6"
      },
      "source": [
        "# Распаковываем архив hw_light.zip в папку hw_light\n",
        "!unzip -q hw_pro.zip"
      ],
      "execution_count": null,
      "outputs": [
        {
          "output_type": "stream",
          "name": "stdout",
          "text": [
            "replace hw_pro/0/1.jpg? [y]es, [n]o, [A]ll, [N]one, [r]ename: A\n"
          ]
        }
      ]
    },
    {
      "cell_type": "code",
      "metadata": {
        "colab": {
          "base_uri": "https://localhost:8080/"
        },
        "id": "HhHbCet01zmG",
        "outputId": "9ac2b404-a633-4990-e944-03ceacee91fa"
      },
      "source": [
        "# Путь к директории с базой\n",
        "base_dir = '/content/hw_pro'\n",
        "# Создание пустого списка для загрузки изображений обучающей выборки\n",
        "x_train = []\n",
        "# Создание списка для меток классов\n",
        "y_train = []\n",
        "# Задание высоты и ширины загружаемых изображений\n",
        "img_height = 20\n",
        "img_width = 20\n",
        "# Перебор папок в директории базы\n",
        "for patch in os.listdir(base_dir):\n",
        "    # Перебор файлов в папках\n",
        "    for img in os.listdir(base_dir + '/' + patch):\n",
        "        # Добавление в список изображений текущей картинки\n",
        "        x_train.append(image.img_to_array(image.load_img(base_dir + '/' + patch + '/' + img,\n",
        "                                                         target_size=(img_height, img_width),\n",
        "                                                         color_mode='grayscale')))\n",
        "        # Добавление в массив меток, соответствующих классам\n",
        "        if patch == '0':\n",
        "            y_train.append(0)\n",
        "        else:\n",
        "            y_train.append(1)\n",
        "# Преобразование в numpy-массив загруженных изображений и меток классов\n",
        "x_train = np.array(x_train)\n",
        "y_train = np.array(y_train)\n",
        "# Вывод размерностей\n",
        "print('Размер массива x_train', x_train.shape)\n",
        "print('Размер массива y_train', y_train.shape)"
      ],
      "execution_count": null,
      "outputs": [
        {
          "output_type": "stream",
          "name": "stdout",
          "text": [
            "Размер массива x_train (102, 20, 20, 1)\n",
            "Размер массива y_train (102,)\n"
          ]
        }
      ]
    },
    {
      "cell_type": "code",
      "source": [
        "x_trn = x_train.reshape(x_train.shape[0], -1)   \n",
        "\n",
        "x_trn.shape"
      ],
      "metadata": {
        "colab": {
          "base_uri": "https://localhost:8080/"
        },
        "id": "3-mTI4JtXBZ8",
        "outputId": "e0fe3d2e-a820-463b-da60-d022a3929d06"
      },
      "execution_count": null,
      "outputs": [
        {
          "output_type": "execute_result",
          "data": {
            "text/plain": [
              "(102, 400)"
            ]
          },
          "metadata": {},
          "execution_count": 248
        }
      ]
    },
    {
      "cell_type": "code",
      "source": [
        "x_trn = x_trn.astype('float32') / 255."
      ],
      "metadata": {
        "id": "V6T6K7UVX7Xj"
      },
      "execution_count": null,
      "outputs": []
    },
    {
      "cell_type": "code",
      "source": [
        "CLASS_COUNT = 2"
      ],
      "metadata": {
        "id": "yULIUq4yYCsn"
      },
      "execution_count": null,
      "outputs": []
    },
    {
      "cell_type": "code",
      "source": [
        "y_trn = utils.to_categorical(y_train, CLASS_COUNT)"
      ],
      "metadata": {
        "id": "iJzqcCx7YO_8"
      },
      "execution_count": null,
      "outputs": []
    },
    {
      "cell_type": "code",
      "source": [
        "y_trn.shape"
      ],
      "metadata": {
        "colab": {
          "base_uri": "https://localhost:8080/"
        },
        "id": "KLr-I-Z5YTn2",
        "outputId": "35a1dea5-30e5-4d09-e3da-d8b6043c671a"
      },
      "execution_count": null,
      "outputs": [
        {
          "output_type": "execute_result",
          "data": {
            "text/plain": [
              "(102, 2)"
            ]
          },
          "metadata": {},
          "execution_count": 252
        }
      ]
    },
    {
      "cell_type": "code",
      "source": [
        "model = Sequential()\n",
        "model.add(Dense(800, input_dim=400, activation='relu')) \n",
        "model.add(Dense(400, input_dim=200, activation='relu'))\n",
        "model.add(Dense(CLASS_COUNT, activation='softmax')) "
      ],
      "metadata": {
        "id": "U2mSCafPZfCV"
      },
      "execution_count": null,
      "outputs": []
    },
    {
      "cell_type": "code",
      "source": [
        "sgd = optimizers.SGD(learning_rate=0.01, decay=1e-6, momentum=0.9, nesterov=True)\n",
        "model.compile(loss='mean_squared_error', optimizer=sgd, metrics=['accuracy'])"
      ],
      "metadata": {
        "id": "QKA8h17bhVg8"
      },
      "execution_count": null,
      "outputs": []
    },
    {
      "cell_type": "code",
      "source": [
        "print(model.summary())"
      ],
      "metadata": {
        "colab": {
          "base_uri": "https://localhost:8080/"
        },
        "id": "hQ2uGIJEiKEt",
        "outputId": "5b650d52-00d9-4d5d-d3a3-164f14ff09b8"
      },
      "execution_count": null,
      "outputs": [
        {
          "output_type": "stream",
          "name": "stdout",
          "text": [
            "Model: \"sequential_54\"\n",
            "_________________________________________________________________\n",
            " Layer (type)                Output Shape              Param #   \n",
            "=================================================================\n",
            " dense_155 (Dense)           (None, 800)               320800    \n",
            "                                                                 \n",
            " dense_156 (Dense)           (None, 400)               320400    \n",
            "                                                                 \n",
            " dense_157 (Dense)           (None, 2)                 802       \n",
            "                                                                 \n",
            "=================================================================\n",
            "Total params: 642,002\n",
            "Trainable params: 642,002\n",
            "Non-trainable params: 0\n",
            "_________________________________________________________________\n",
            "None\n"
          ]
        }
      ]
    },
    {
      "cell_type": "code",
      "source": [
        "utils.plot_model(model, to_file='model_plot.png', show_shapes=True, show_layer_names=False)"
      ],
      "metadata": {
        "colab": {
          "base_uri": "https://localhost:8080/",
          "height": 422
        },
        "id": "dBYJ8kLuZmLH",
        "outputId": "c22b90b3-d205-4d16-eedd-b2c93a68f276"
      },
      "execution_count": null,
      "outputs": [
        {
          "output_type": "execute_result",
          "data": {
            "image/png": "[encoded data removed]",
            "text/plain": [
              "<IPython.core.display.Image object>"
            ]
          },
          "metadata": {},
          "execution_count": 256
        }
      ]
    },
    {
      "cell_type": "code",
      "source": [
        "model.fit(x_trn,\n",
        "          y_trn,\n",
        "          batch_size=128,\n",
        "          epochs=12,\n",
        "          verbose=1)"
      ],
      "metadata": {
        "colab": {
          "base_uri": "https://localhost:8080/"
        },
        "id": "fsmPpkdrZoor",
        "outputId": "c27f4c1f-950a-48a1-d833-a8e55447b98b"
      },
      "execution_count": null,
      "outputs": [
        {
          "output_type": "stream",
          "name": "stdout",
          "text": [
            "Epoch 1/12\n",
            "1/1 [==============================] - 0s 320ms/step - loss: 0.2975 - accuracy: 0.5098\n",
            "Epoch 2/12\n",
            "1/1 [==============================] - 0s 15ms/step - loss: 0.2632 - accuracy: 0.4902\n",
            "Epoch 3/12\n",
            "1/1 [==============================] - 0s 10ms/step - loss: 0.2435 - accuracy: 0.5980\n",
            "Epoch 4/12\n",
            "1/1 [==============================] - 0s 14ms/step - loss: 0.2225 - accuracy: 0.6961\n",
            "Epoch 5/12\n",
            "1/1 [==============================] - 0s 14ms/step - loss: 0.2045 - accuracy: 0.8529\n",
            "Epoch 6/12\n",
            "1/1 [==============================] - 0s 10ms/step - loss: 0.1872 - accuracy: 0.9118\n",
            "Epoch 7/12\n",
            "1/1 [==============================] - 0s 9ms/step - loss: 0.1704 - accuracy: 0.9510\n",
            "Epoch 8/12\n",
            "1/1 [==============================] - 0s 8ms/step - loss: 0.1543 - accuracy: 0.9706\n",
            "Epoch 9/12\n",
            "1/1 [==============================] - 0s 7ms/step - loss: 0.1392 - accuracy: 0.9706\n",
            "Epoch 10/12\n",
            "1/1 [==============================] - 0s 9ms/step - loss: 0.1254 - accuracy: 0.9706\n",
            "Epoch 11/12\n",
            "1/1 [==============================] - 0s 6ms/step - loss: 0.1123 - accuracy: 0.9706\n",
            "Epoch 12/12\n",
            "1/1 [==============================] - 0s 6ms/step - loss: 0.1004 - accuracy: 0.9804\n"
          ]
        },
        {
          "output_type": "execute_result",
          "data": {
            "text/plain": [
              "<keras.callbacks.History at 0x7fecf4221810>"
            ]
          },
          "metadata": {},
          "execution_count": 257
        }
      ]
    },
    {
      "cell_type": "code",
      "source": [
        "model.save_weights('model.h5')\n",
        "model.load_weights('model.h5')"
      ],
      "metadata": {
        "id": "iWydBZeQZu9D"
      },
      "execution_count": null,
      "outputs": []
    }
  ]
}