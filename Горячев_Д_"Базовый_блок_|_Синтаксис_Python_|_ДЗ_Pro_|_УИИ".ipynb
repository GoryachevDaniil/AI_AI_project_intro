{
  "nbformat": 4,
  "nbformat_minor": 0,
  "metadata": {
    "colab": {
      "provenance": [],
      "collapsed_sections": [],
      "include_colab_link": true
    },
    "kernelspec": {
      "display_name": "Python 3",
      "name": "python3"
    },
    "language_info": {
      "name": "python"
    }
  },
  "cells": [
    {
      "cell_type": "markdown",
      "metadata": {
        "id": "view-in-github",
        "colab_type": "text"
      },
      "source": [
        "<a href=\"https://colab.research.google.com/github/GoryachevDaniil/UAI_AI_project_intro/blob/main/%D0%93%D0%BE%D1%80%D1%8F%D1%87%D0%B5%D0%B2_%D0%94_%22%D0%91%D0%B0%D0%B7%D0%BE%D0%B2%D1%8B%D0%B9_%D0%B1%D0%BB%D0%BE%D0%BA_%7C_%D0%A1%D0%B8%D0%BD%D1%82%D0%B0%D0%BA%D1%81%D0%B8%D1%81_Python_%7C_%D0%94%D0%97_Pro_%7C_%D0%A3%D0%98%D0%98%22.ipynb\" target=\"_parent\"><img src=\"https://colab.research.google.com/assets/colab-badge.svg\" alt=\"Open In Colab\"/></a>"
      ]
    },
    {
      "cell_type": "markdown",
      "metadata": {
        "id": "39zJTivLrXFV"
      },
      "source": [
        "### Задача 1"
      ]
    },
    {
      "cell_type": "markdown",
      "metadata": {
        "id": "8YhhSW05rc1o"
      },
      "source": [
        "Напишите программу, которая просит пользователя ввести произвольную цифру от 1 до 9, а затем выводит таблицу умножения для введенного числа.\n",
        "\n",
        "Добавьте проверку введенной пользователем информации:\n",
        "* данные должны быть целочисленного типа\n",
        "* число должно находиться в диапазоне от 1 до 9"
      ]
    },
    {
      "cell_type": "code",
      "metadata": {
        "id": "ye9ErHpKBhhU",
        "colab": {
          "base_uri": "https://localhost:8080/"
        },
        "outputId": "b0e0cd83-5a0b-4fdd-e4ae-baa43a545413"
      },
      "source": [
        "while True:\n",
        "  number = input(\"Введите любое число от 1 до 9: \")\n",
        "  try:\n",
        "    number = int(number)\n",
        "    if 1 <= number <= 9:\n",
        "      break\n",
        "    print(\"Вы ввели недопустимое число!\")\n",
        "  except:\n",
        "    print(\"Введите число цифрой!\")\n",
        "for i in range(1, 10):\n",
        "  print(f'{number} * {i} = {number * i}')"
      ],
      "execution_count": null,
      "outputs": [
        {
          "output_type": "stream",
          "name": "stdout",
          "text": [
            "Введите любое число от 1 до 9: 2\n",
            "2 * 1 = 2\n",
            "2 * 2 = 4\n",
            "2 * 3 = 6\n",
            "2 * 4 = 8\n",
            "2 * 5 = 10\n",
            "2 * 6 = 12\n",
            "2 * 7 = 14\n",
            "2 * 8 = 16\n",
            "2 * 9 = 18\n"
          ]
        }
      ]
    },
    {
      "cell_type": "markdown",
      "metadata": {
        "id": "dT9n_KJtpS-N"
      },
      "source": [
        "### Задача 2"
      ]
    },
    {
      "cell_type": "markdown",
      "metadata": {
        "id": "OTSU9QTLhdqe"
      },
      "source": [
        "Напишите программу, которая ищет все числа в интервале от 300 до 430 включительно, делящиеся на 11, но не делящиеся на 5. Выведите на экран все найденные числа."
      ]
    },
    {
      "cell_type": "code",
      "metadata": {
        "id": "lFWrMa8Uh9dc",
        "colab": {
          "base_uri": "https://localhost:8080/"
        },
        "outputId": "0c294fcf-a9d9-4c5a-a5bb-60114ed1b4e3"
      },
      "source": [
        "number_1 = 300\n",
        "number_2 = 430\n",
        "\n",
        "for i in range(number_1, number_2 + 1):\n",
        "  if i % 11 == 0 and i % 5 != 0:\n",
        "    print(i)"
      ],
      "execution_count": null,
      "outputs": [
        {
          "output_type": "stream",
          "name": "stdout",
          "text": [
            "308\n",
            "319\n",
            "341\n",
            "352\n",
            "363\n",
            "374\n",
            "396\n",
            "407\n",
            "418\n",
            "429\n"
          ]
        }
      ]
    },
    {
      "cell_type": "markdown",
      "metadata": {
        "id": "BDz6HXvPxsYs"
      },
      "source": [
        "### Задача 3"
      ]
    },
    {
      "cell_type": "markdown",
      "metadata": {
        "id": "_b21x2ryxziN"
      },
      "source": [
        "Напишите функцию, которая принимает один параметр (год) и определяет, является ли этот год високосным.\n",
        "\n",
        "Напомним, что ***високосными*** годами считаются те, порядковый номер которых либо кратен **4**, но при этом не кратен **100**, либо кратен **400** (например, 2000-й год являлся високосным, а 2100-й будет не високосным годом).\n",
        "\n",
        "Программа должна корректно работать на числах **1900 ≤ n ≤ 3000**.\n",
        "\n",
        "Функция должна вывести на экран \"Високосный\" в случае, если год является високосным и \"Обычный\" в противном случае."
      ]
    },
    {
      "cell_type": "code",
      "metadata": {
        "id": "W2LFTkVAeDE_",
        "colab": {
          "base_uri": "https://localhost:8080/"
        },
        "outputId": "3410c746-9e00-43ef-f14c-686e8e5286fd"
      },
      "source": [
        "def what_year(year = 2022):\n",
        "  print(\"Високосный\") if (year % 4 == 0 and year % 100 != 0) or (year % 400) == 0 else print(\"Обычный\")\n",
        "\n",
        "while True:\n",
        "  year = input(\"Введите год(пример: 2022): \")\n",
        "  try:\n",
        "    year = int(year)\n",
        "    if year > 0:\n",
        "      break\n",
        "    print(\"Введите корректный год!\")\n",
        "  except:\n",
        "    print(\"Введите год цифрой!\")\n",
        "\n",
        "what_year(year)"
      ],
      "execution_count": null,
      "outputs": [
        {
          "output_type": "stream",
          "name": "stdout",
          "text": [
            "Введите год(пример: 2022): \n",
            "Введите год цифрой!\n",
            "Введите год(пример: 2022): 22\n",
            "Обычный\n"
          ]
        }
      ]
    },
    {
      "cell_type": "markdown",
      "metadata": {
        "id": "9sr2U6oz1Iqu"
      },
      "source": [
        "### Задача 4"
      ]
    },
    {
      "cell_type": "markdown",
      "metadata": {
        "id": "fHMBDh-ahdrz"
      },
      "source": [
        "Создайте словарь (dict) c ключами, соответствующими числам от 1 до 10 включительно и значениями, соответствующими квадратам ключей. "
      ]
    },
    {
      "cell_type": "code",
      "metadata": {
        "id": "qpzOKGoXgzwQ",
        "colab": {
          "base_uri": "https://localhost:8080/"
        },
        "outputId": "80119ff7-9e42-4fa7-c270-77e9c14581e4"
      },
      "source": [
        "result_dict = {x: x**2 for x in range(1, 11)}\n",
        "result_dict"
      ],
      "execution_count": null,
      "outputs": [
        {
          "output_type": "execute_result",
          "data": {
            "text/plain": [
              "{1: 1, 2: 4, 3: 9, 4: 16, 5: 25, 6: 36, 7: 49, 8: 64, 9: 81, 10: 100}"
            ]
          },
          "metadata": {},
          "execution_count": 14
        }
      ]
    },
    {
      "cell_type": "markdown",
      "metadata": {
        "id": "1GnNaeQ4zwt1"
      },
      "source": [
        "### Задача 5"
      ]
    },
    {
      "cell_type": "markdown",
      "metadata": {
        "id": "Rz5_LNzlr7GR"
      },
      "source": [
        "Напишите функцию простейшего калькулятора. Пользователь вводит число **a**, число **b** и вид арифметической операции над ними. Функция возвращает результат вычисления. "
      ]
    },
    {
      "cell_type": "code",
      "metadata": {
        "id": "DD8u-nSnl41M",
        "colab": {
          "base_uri": "https://localhost:8080/"
        },
        "outputId": "bdf30d04-4c60-4b98-82b1-925fb9cff8df"
      },
      "source": [
        "def my_calculator(a = 2, b = 2, operation = '+'):\n",
        "  if operation == '+':\n",
        "    result = a + b\n",
        "  elif operation == '-':\n",
        "    result = a - b\n",
        "  elif operation == '*':\n",
        "    result = a * b\n",
        "  elif operation == '/':\n",
        "    result = a / b\n",
        "  elif operation == '**':\n",
        "    result = a ** b\n",
        "  elif operation == '//':\n",
        "    result = a // b\n",
        "  elif operation == '%':\n",
        "    result = a % b\n",
        "  else:\n",
        "    print(\"Такой команды нет в списке!\")\n",
        "    return\n",
        "  return(result)\n",
        "\n",
        "operations = ['+','-','*','/','**','//','%']\n",
        "\n",
        "while True:\n",
        "  number_1 = input(\"Введите первое число:\")\n",
        "  number_2 = input(\"Введите второе число:\")\n",
        "  operation = input(\"Введите знак арифметической операции('+','-','*','/','**','//','%'): \")\n",
        "  try:\n",
        "    number_1 = int(number_1)\n",
        "    number_2 = int(number_2)\n",
        "    if operation in operations:\n",
        "      break\n",
        "    print(\"Введите корректные данные!\")\n",
        "  except:\n",
        "    print(\"Введите корректные данные!\")\n",
        "\n",
        "print(f'{number_1} {operation} {number_2} = {my_calculator(number_1, number_2, operation)}')"
      ],
      "execution_count": null,
      "outputs": [
        {
          "output_type": "stream",
          "name": "stdout",
          "text": [
            "Введите первое число:3\n",
            "Введите второе число:5\n",
            "Введите знак арифметической операции('+','-','*','/','**','//','%'):*\n",
            "3 * 5 = 15\n"
          ]
        }
      ]
    }
  ]
}